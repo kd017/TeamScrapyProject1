{
 "cells": [
  {
   "cell_type": "code",
   "execution_count": 12,
   "metadata": {},
   "outputs": [],
   "source": [
    "import os\n",
    "import requests\n",
    "import pandas as pd\n",
    "import spotipy\n",
    "import spotipy.util as util\n",
    "from spotipy.oauth2 import SpotifyClientCredentials\n",
    "from pprint import pprint\n",
    "from time import sleep\n",
    "from bs4 import BeautifulSoup"
   ]
  },
  {
   "cell_type": "code",
   "execution_count": 13,
   "metadata": {},
   "outputs": [],
   "source": [
    "# Spotify API Keys\n",
    "import config\n",
    "os.environ['SPOTIPY_CLIENT_ID']=config.spotify_cliend_id\n",
    "os.environ['SPOTIPY_CLIENT_SECRET']=config.spotify_client_secret"
   ]
  },
  {
   "cell_type": "code",
   "execution_count": 14,
   "metadata": {},
   "outputs": [],
   "source": [
    "# Generate API Token\n",
    "client_credentials_manager = SpotifyClientCredentials()\n",
    "sp = spotipy.Spotify(client_credentials_manager=client_credentials_manager)\n",
    "token = client_credentials_manager.get_access_token()\n",
    "# print(token)"
   ]
  },
  {
   "cell_type": "code",
   "execution_count": 15,
   "metadata": {},
   "outputs": [],
   "source": [
    "WORST_SONG_PAGE='http://time.com/5475647/worst-songs-2018/'"
   ]
  },
  {
   "cell_type": "code",
   "execution_count": 56,
   "metadata": {},
   "outputs": [
    {
     "name": "stdout",
     "output_type": "stream",
     "text": [
      "1,Post Malone,\"Psycho (feat. Ty Dolla $ign)\"\n",
      "2,6ix9ine,\"FEFE (feat. Nicki Minaj & Murda Beatz)\"\n",
      "3,Bella Thorne,\"B*TCH I’M BELLA THORNE\"\n",
      "4,Justin Timberlake,\"The Hard Stuff\"\n",
      "5,Maroon 5,\"Girls Like You (feat. Cardi B)\"\n",
      "6,Zayn,\"Let Me\"\n",
      "7,DJ Snake,\"Taki Taki (with Selena Gomez,Ozuna & Cardi B)\"\n",
      "8,Kanye West and Lil Pump,\"I Love It\"\n",
      "9,Greta Van Fleet,\"Lover,Leaver\"\n",
      "10,Eminem,\"Fall\"\n"
     ]
    }
   ],
   "source": [
    "\n",
    "resp = requests.get(WORST_SONG_PAGE)\n",
    "\n",
    "soup = BeautifulSoup(resp.content, 'html.parser')\n",
    "\n",
    "WORST_SONG_FILE_NAME = os.path.join('data', 'us', '2018-worst-songs.csv')\n",
    "with open(WORST_SONG_FILE_NAME, 'w') as wsf:\n",
    "    wsf.write('Position,Artist,Title\\n')\n",
    "    for h2 in reversed(soup.find_all('h2')):\n",
    "        h2 = h2.get_text().replace('.', ',', 1).replace(', ', ',').strip()\n",
    "        h2 = h2.replace('“', '\"')\n",
    "        h2 = h2.replace('”', '\"')\n",
    "        print(h2)\n",
    "        wsf.write(h2+'\\n')"
   ]
  },
  {
   "cell_type": "code",
   "execution_count": null,
   "metadata": {},
   "outputs": [],
   "source": []
  }
 ],
 "metadata": {
  "kernelspec": {
   "display_name": "Python 3",
   "language": "python",
   "name": "python3"
  },
  "language_info": {
   "codemirror_mode": {
    "name": "ipython",
    "version": 3
   },
   "file_extension": ".py",
   "mimetype": "text/x-python",
   "name": "python",
   "nbconvert_exporter": "python",
   "pygments_lexer": "ipython3",
   "version": "3.6.7"
  }
 },
 "nbformat": 4,
 "nbformat_minor": 2
}
