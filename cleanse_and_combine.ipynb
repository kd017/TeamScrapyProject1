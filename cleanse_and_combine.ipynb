{
 "cells": [
  {
   "cell_type": "code",
   "execution_count": 45,
   "metadata": {},
   "outputs": [],
   "source": [
    "import os\n",
    "import re\n",
    "import pandas as pd\n",
    "from datetime import datetime"
   ]
  },
  {
   "cell_type": "code",
   "execution_count": 46,
   "metadata": {},
   "outputs": [],
   "source": [
    "WEEKLY_FILE_LOC = os.path.join('data', 'us')\n",
    "COMBINED_FILE_NAME = os.path.join('data', 'clean', 'regional-us-weekly-combined.csv')"
   ]
  },
  {
   "cell_type": "code",
   "execution_count": 50,
   "metadata": {},
   "outputs": [
    {
     "name": "stdout",
     "output_type": "stream",
     "text": [
      "Position           10400\n",
      "Track Name         10400\n",
      "Artist             10400\n",
      "Streams            10400\n",
      "URL                10400\n",
      "Week Start Date    10400\n",
      "Week End Date      10400\n",
      "dtype: int64\n",
      "Position                    int64\n",
      "Track Name                 object\n",
      "Artist                     object\n",
      "Streams                     int64\n",
      "URL                        object\n",
      "Week Start Date    datetime64[ns]\n",
      "Week End Date      datetime64[ns]\n",
      "dtype: object\n",
      "   Position                       Track Name       Artist   Streams  \\\n",
      "0         1                         rockstar  Post Malone  10134471   \n",
      "1         2                         No Limit       G-Eazy   7090891   \n",
      "2         3                     I Fall Apart  Post Malone   6673907   \n",
      "3         4  Bartier Cardi (feat. 21 Savage)      Cardi B   6624198   \n",
      "4         5                       Gucci Gang     Lil Pump   5975507   \n",
      "\n",
      "                                                 URL Week Start Date  \\\n",
      "0  https://open.spotify.com/track/7wGoVu4Dady5GV0...      2017-12-29   \n",
      "1  https://open.spotify.com/track/2DQ1ITjI0YoLFzu...      2017-12-29   \n",
      "2  https://open.spotify.com/track/75ZvA4QfFiZvzhj...      2017-12-29   \n",
      "3  https://open.spotify.com/track/75FDPwaULRdYDn4...      2017-12-29   \n",
      "4  https://open.spotify.com/track/43ZyHQITOjhciSU...      2017-12-29   \n",
      "\n",
      "  Week End Date  \n",
      "0    2018-01-05  \n",
      "1    2018-01-05  \n",
      "2    2018-01-05  \n",
      "3    2018-01-05  \n",
      "4    2018-01-05  \n",
      "       Position                       Track Name         Artist  Streams  \\\n",
      "10395       196                Murder On My Mind      YNW Melly  1820631   \n",
      "10396       197                       Be Alright     Dean Lewis  1815988   \n",
      "10397       198                        WORKIN ME          Quavo  1811141   \n",
      "10398       199                  Te Boté - Remix     Nio Garcia  1807563   \n",
      "10399       200  I Saw Mommy Kissing Santa Claus  The Jackson 5  1798617   \n",
      "\n",
      "                                                     URL Week Start Date  \\\n",
      "10395  https://open.spotify.com/track/7eBqSVxrzQZtK2m...      2018-12-21   \n",
      "10396  https://open.spotify.com/track/3EPXxR3ImUwfaya...      2018-12-21   \n",
      "10397  https://open.spotify.com/track/4MAsYGSgxsaj73d...      2018-12-21   \n",
      "10398  https://open.spotify.com/track/3V8UKqhEK5zBkBb...      2018-12-21   \n",
      "10399  https://open.spotify.com/track/0vmANNClszGQZ0F...      2018-12-21   \n",
      "\n",
      "      Week End Date  \n",
      "10395    2018-12-28  \n",
      "10396    2018-12-28  \n",
      "10397    2018-12-28  \n",
      "10398    2018-12-28  \n",
      "10399    2018-12-28  \n"
     ]
    }
   ],
   "source": [
    "combined_wkly_data_df = None\n",
    "for wkly_file in sorted(os.listdir(WEEKLY_FILE_LOC)):\n",
    "    file_name_pattern = 'regional-us-weekly-(.*)--(.*).csv'\n",
    "    match = re.match(file_name_pattern, wkly_file)\n",
    "    start_date = match.groups(0)[0]\n",
    "    start_date = datetime.strptime(start_date, '%Y-%m-%d')\n",
    "    end_date = match.groups(0)[1]\n",
    "    end_date = datetime.strptime(end_date, '%Y-%m-%d')\n",
    "    wkly_data_df = pd.read_csv(os.path.join(WEEKLY_FILE_LOC, wkly_file), skiprows=1)\n",
    "    wkly_data_df['Week Start Date']=start_date\n",
    "    wkly_data_df['Week End Date']=end_date\n",
    "    if combined_wkly_data_df is None:\n",
    "        combined_wkly_data_df = wkly_data_df\n",
    "    else:\n",
    "        combined_wkly_data_df = pd.concat([combined_wkly_data_df, wkly_data_df], ignore_index=True)\n",
    "        \n",
    "print(combined_wkly_data_df.count())\n",
    "print(combined_wkly_data_df.dtypes)\n",
    "print(combined_wkly_data_df.head())\n",
    "print(combined_wkly_data_df.tail())\n",
    "    \n",
    "if not os.path.exists(os.path.dirname(COMBINED_FILE_NAME)):\n",
    "    os.mkdir(os.path.dirname(COMBINED_FILE_NAME))\n",
    "    \n",
    "combined_wkly_data_df.to_csv(COMBINED_FILE_NAME)\n",
    "    "
   ]
  },
  {
   "cell_type": "code",
   "execution_count": null,
   "metadata": {},
   "outputs": [],
   "source": []
  }
 ],
 "metadata": {
  "kernelspec": {
   "display_name": "Python 3",
   "language": "python",
   "name": "python3"
  },
  "language_info": {
   "codemirror_mode": {
    "name": "ipython",
    "version": 3
   },
   "file_extension": ".py",
   "mimetype": "text/x-python",
   "name": "python",
   "nbconvert_exporter": "python",
   "pygments_lexer": "ipython3",
   "version": "3.6.7"
  }
 },
 "nbformat": 4,
 "nbformat_minor": 2
}
