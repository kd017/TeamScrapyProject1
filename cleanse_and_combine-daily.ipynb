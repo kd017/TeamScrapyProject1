{
 "cells": [
  {
   "cell_type": "code",
   "execution_count": 3,
   "metadata": {},
   "outputs": [],
   "source": [
    "import os\n",
    "import re\n",
    "import pandas as pd\n",
    "from datetime import datetime"
   ]
  },
  {
   "cell_type": "code",
   "execution_count": 4,
   "metadata": {},
   "outputs": [],
   "source": [
    "Daily_FILE_LOC = os.path.join('data', 'Daily')\n",
    "COMBINED_FILE_NAME = os.path.join('data', 'daily_clean', 'Daily_Combined.csv')"
   ]
  },
  {
   "cell_type": "code",
   "execution_count": 11,
   "metadata": {},
   "outputs": [
    {
     "name": "stdout",
     "output_type": "stream",
     "text": [
      "Position          10800\n",
      "Track Name        10800\n",
      "Artist            10800\n",
      "Streams           10800\n",
      "URL               10800\n",
      "Day Start Date    10800\n",
      "dtype: int64\n",
      "Position                   int64\n",
      "Track Name                object\n",
      "Artist                    object\n",
      "Streams                    int64\n",
      "URL                       object\n",
      "Day Start Date    datetime64[ns]\n",
      "dtype: object\n",
      "   Position                       Track Name       Artist  Streams  \\\n",
      "0         1                       God's Plan        Drake  4324386   \n",
      "1         2              Diplomatic Immunity        Drake  1258469   \n",
      "2         3                         rockstar  Post Malone  1176358   \n",
      "3         4  Finesse (Remix) [feat. Cardi B]   Bruno Mars   968266   \n",
      "4         5                         No Limit       G-Eazy   928829   \n",
      "\n",
      "                                                 URL Day Start Date  \n",
      "0  https://open.spotify.com/track/2XW4DbS6NddZxRP...     2018-01-23  \n",
      "1  https://open.spotify.com/track/5goGDc74vVREyN8...     2018-01-23  \n",
      "2  https://open.spotify.com/track/7wGoVu4Dady5GV0...     2018-01-23  \n",
      "3  https://open.spotify.com/track/3Vo4wInECJQuz9B...     2018-01-23  \n",
      "4  https://open.spotify.com/track/2DQ1ITjI0YoLFzu...     2018-01-23  \n",
      "       Position                        Track Name       Artist  Streams  \\\n",
      "10795       196                        In My Head  Peter Manos   180556   \n",
      "10796       197                       Jackie Chan       Tiësto   180134   \n",
      "10797       198                    1-800-273-8255        Logic   179555   \n",
      "10798       199  Mona Lisa (feat. Kendrick Lamar)    Lil Wayne   179530   \n",
      "10799       200  Happy Now (feat. Sandro Cavazza)         Kygo   177948   \n",
      "\n",
      "                                                     URL Day Start Date  \n",
      "10795  https://open.spotify.com/track/1tT55K6VEyO6XFD...     2018-12-30  \n",
      "10796  https://open.spotify.com/track/4kWO6O1BUXcZmax...     2018-12-30  \n",
      "10797  https://open.spotify.com/track/5tz69p7tJuGPeMG...     2018-12-30  \n",
      "10798  https://open.spotify.com/track/0dbTQYW3Ad1FTzI...     2018-12-30  \n",
      "10799  https://open.spotify.com/track/14sOS5L36385FJ3...     2018-12-30  \n"
     ]
    }
   ],
   "source": [
    "combined_daily_data_df = None\n",
    "for daily_file in sorted(os.listdir(Daily_FILE_LOC)):\n",
    "    if not daily_file.startswith('regional'):\n",
    "        continue\n",
    "    file_name_pattern = 'regional-us-daily-(.*).csv'\n",
    "    match = re.match(file_name_pattern, daily_file)\n",
    "    start_date = match.groups(0)[0]\n",
    "    start_date = datetime.strptime(start_date, '%Y-%m-%d')\n",
    "\n",
    "    daily_data_df = pd.read_csv(os.path.join(Daily_FILE_LOC, daily_file), skiprows=1)\n",
    "    daily_data_df['Day Start Date']=start_date\n",
    "    if combined_daily_data_df is None:\n",
    "        combined_daily_data_df = daily_data_df\n",
    "    else:\n",
    "        combined_daily_data_df = pd.concat([combined_daily_data_df, daily_data_df], ignore_index=True)\n",
    "        \n",
    "print(combined_daily_data_df.count())\n",
    "print(combined_daily_data_df.dtypes)\n",
    "print(combined_daily_data_df.head())\n",
    "print(combined_daily_data_df.tail())\n",
    "    \n",
    "if not os.path.exists(os.path.dirname(COMBINED_FILE_NAME)):\n",
    "    os.mkdir(os.path.dirname(COMBINED_FILE_NAME))\n",
    "    \n",
    "combined_daily_data_df.to_csv(COMBINED_FILE_NAME, index=False)\n",
    "    "
   ]
  },
  {
   "cell_type": "code",
   "execution_count": null,
   "metadata": {},
   "outputs": [],
   "source": []
  }
 ],
 "metadata": {
  "kernelspec": {
   "display_name": "Python 3",
   "language": "python",
   "name": "python3"
  },
  "language_info": {
   "codemirror_mode": {
    "name": "ipython",
    "version": 3
   },
   "file_extension": ".py",
   "mimetype": "text/x-python",
   "name": "python",
   "nbconvert_exporter": "python",
   "pygments_lexer": "ipython3",
   "version": "3.7.0"
  }
 },
 "nbformat": 4,
 "nbformat_minor": 2
}
